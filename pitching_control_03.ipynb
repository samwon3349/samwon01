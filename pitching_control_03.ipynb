{
 "cells": [
  {
   "cell_type": "code",
   "execution_count": 2,
   "id": "625df423",
   "metadata": {},
   "outputs": [
    {
     "ename": "ModuleNotFoundError",
     "evalue": "No module named 'pymodbus.client.sync'",
     "output_type": "error",
     "traceback": [
      "\u001b[1;31m---------------------------------------------------------------------------\u001b[0m",
      "\u001b[1;31mModuleNotFoundError\u001b[0m                       Traceback (most recent call last)",
      "Cell \u001b[1;32mIn[2], line 1\u001b[0m\n\u001b[1;32m----> 1\u001b[0m \u001b[39mfrom\u001b[39;00m \u001b[39mpymodbus\u001b[39;00m\u001b[39m.\u001b[39;00m\u001b[39mclient\u001b[39;00m\u001b[39m.\u001b[39;00m\u001b[39msync\u001b[39;00m \u001b[39mimport\u001b[39;00m ModbusTcpClient\n\u001b[0;32m      2\u001b[0m \u001b[39mfrom\u001b[39;00m \u001b[39mpymodbus\u001b[39;00m\u001b[39m.\u001b[39;00m\u001b[39mclient\u001b[39;00m\u001b[39m.\u001b[39;00m\u001b[39mcommon\u001b[39;00m \u001b[39mimport\u001b[39;00m ModbusClientMixin\n\u001b[0;32m      3\u001b[0m \u001b[39mfrom\u001b[39;00m \u001b[39mpymodbus\u001b[39;00m\u001b[39m.\u001b[39;00m\u001b[39mconstants\u001b[39;00m \u001b[39mimport\u001b[39;00m Defaults\n",
      "\u001b[1;31mModuleNotFoundError\u001b[0m: No module named 'pymodbus.client.sync'"
     ]
    }
   ],
   "source": [
    "from pymodbus.client.sync import ModbusTcpClient\n",
    "from pymodbus.client.common import ModbusClientMixin\n",
    "from pymodbus.constants import Defaults\n",
    "from pyfirmata import Arduino\n",
    "\n",
    "import os\n",
    "import sys\n",
    "import time\n",
    "import matplotlib.pyplot as plt"
   ]
  },
  {
   "cell_type": "code",
   "execution_count": 8,
   "id": "511a7560",
   "metadata": {},
   "outputs": [],
   "source": [
    "import matplotlib.pyplot as plt"
   ]
  },
  {
   "cell_type": "code",
   "execution_count": 9,
   "id": "f04020bf",
   "metadata": {},
   "outputs": [],
   "source": [
    "from simple_pid import PID"
   ]
  },
  {
   "cell_type": "code",
   "execution_count": null,
   "id": "8254868f",
   "metadata": {},
   "outputs": [],
   "source": [
    "Defaults.RetryOnEmpty = True"
   ]
  },
  {
   "cell_type": "code",
   "execution_count": null,
   "id": "ccd8010e",
   "metadata": {},
   "outputs": [],
   "source": [
    "#-----------------------------variable definition for receiving data\n",
    "tur_rpm = 0.0      #Turbine rpm, address 1\n",
    "max_rpm = 0.0      #Maximum rpm of all turbines\n",
    "max_rpm0 = 0.0     #Maximum rpm for before time step\n",
    "tur_vol = 0.0      #DC voltage from turbine, address 2\n",
    "max_tur_vol = 0.0  #Maximum DC voltage from all turbines\n",
    "inv_pwr = 0.0      #inverter power, address 24\n",
    "dump_pwr = 0.0     #dumploaded power, address 5\n",
    "total_pwr = 0.0     #total power = inverter power + dumploaded power\n",
    "max_pwr = 0.0       #maximum total power\n",
    "cont_in_vol = 0.0   #controller operating input voltage, address 3\n",
    "windspeed = 0.0     #wind speed, address 0\n",
    "fpin = 13           #실린더 후진 folding arduino pin\n",
    "upin = 12           #실린더 전진 unfolding arduino pin\n",
    "ycwpin = 11         #CW direction yawing arduino pin\n",
    "yccwpin = 10        #CCW direction yawing arduino pin\n",
    "motor_start = 9     #motor operating arduino pin"
   ]
  },
  {
   "cell_type": "code",
   "execution_count": null,
   "id": "e0aedd17",
   "metadata": {},
   "outputs": [],
   "source": [
    "#-------------------------------arduino initialize\n",
    "port1='COM12' #control arduino port\n",
    "baudrate=9600\n",
    "board1=Arduino(port1)"
   ]
  },
  {
   "cell_type": "code",
   "execution_count": null,
   "id": "014bacdc",
   "metadata": {},
   "outputs": [],
   "source": [
    "fpin=board1.get_pin('d:13:o') # folding pin setting\n",
    "upin=board1.get_pin('d:12:o') # unfolding pin setting\n",
    "ycwpin=board1.get_pin('d:11:o') # unfolding pin setting\n",
    "yccwpin=board1.get_pin('d:10:o') # unfolding pin setting\n",
    "motor_start=board1.get_pin('d:9:o') # unfolding pin setting"
   ]
  },
  {
   "cell_type": "code",
   "execution_count": null,
   "id": "2c54db07",
   "metadata": {},
   "outputs": [],
   "source": [
    "#pin intitialize for arduino\n",
    "fpin.write(0)\n",
    "upin.write(0)\n",
    "ycwpin.write(0)\n",
    "yccwpin.write(0)\n",
    "motor_start.write(0)"
   ]
  },
  {
   "cell_type": "code",
   "execution_count": null,
   "id": "411965fa",
   "metadata": {},
   "outputs": [],
   "source": [
    "#----------------------------------------Data receive from TCP\n",
    "        while True:\n",
    "            try:\n",
    "# connection to controller\n",
    "                client1 = ModbusTcpClient(host=\"192.168.8.7\", port=502)\n",
    "                print(client1.connect())\n",
    "# read data from controller\n",
    "                result = client1.read_input_registers(address=0, count=50, unit=i) #read data set\n",
    "\n",
    "                tur_rpm = float(result.registers[1]) * 3.8  #read turbine rpm\n",
    "                tur_vol = float(result.registers[2])   #read turbine DC voltate\n",
    "                cont_in_vol = float(result.registers[3]) #read controller operating power voltate\n",
    "                dump_pwr = float(result.registers[5]) #read dumploaded power\n",
    "                inv_pwr = float(result.registers[24]) #read inverting power\n",
    "                print(\"turbine \", i, \"rpm= \", tur_rpm)\n",
    "\n",
    "                if max_rpm<=tur_rpm:   # maximum rpm check\n",
    "                    max_rpm = tur_rpm\n",
    "                else:\n",
    "                    max_rpm = max_rpm\n",
    "\n",
    "                if max_tur_vol<=tur_vol:  # maximum turbine voltage check\n",
    "                    max_tur_vol = tur_vol\n",
    "                else:\n",
    "                    max_tur_vol = max_tur_vol\n",
    "\n",
    "                total_pwr = dump_pwr + inv_pwr  # maximum power check\n",
    "                if max_pwr<=total_pwr:\n",
    "                    max_pwr = total_pwr\n",
    "                else:\n",
    "                    max_pwr = max_pwr\n",
    "\n",
    "                client1.close()\n",
    "\n",
    "# slop calculation\n",
    "                if max_rpm > 0:\n",
    "                    slop_rpm = (max_rpm - max_rpm0)/max_rpm\n",
    "                    max_rpm0 = max_rpm\n",
    "                else:\n",
    "                    slop_rpm = 0.0\n",
    "            continue"
   ]
  },
  {
   "cell_type": "code",
   "execution_count": 10,
   "id": "f7d37828",
   "metadata": {},
   "outputs": [],
   "source": [
    "class WaterBoiler:\n",
    "    \"\"\"\n",
    "    Simple simulation of a water boiler which can heat up water\n",
    "    and where the heat dissipates slowly over time\n",
    "    \"\"\"\n",
    "\n",
    "    def __init__(self):\n",
    "        self.water_temp = 20\n",
    "\n",
    "    def update(self, boiler_power, dt):\n",
    "        if boiler_power > 0:\n",
    "            # Boiler can only produce heat, not cold\n",
    "            self.water_temp += 1 * boiler_power * dt\n",
    "\n",
    "        # Some heat dissipation\n",
    "        self.water_temp -= 0.02 * dt\n",
    "        return self.water_temp"
   ]
  },
  {
   "cell_type": "code",
   "execution_count": 11,
   "id": "a21428e3",
   "metadata": {},
   "outputs": [
    {
     "data": {
      "image/png": "[encoded data removed]",
      "text/plain": [
       "<Figure size 432x288 with 1 Axes>"
      ]
     },
     "metadata": {
      "needs_background": "light"
     },
     "output_type": "display_data"
    }
   ],
   "source": [
    "if __name__ == '__main__':\n",
    "    boiler = WaterBoiler()\n",
    "    water_temp = boiler.water_temp\n",
    "\n",
    "    pid = PID(5, 0.01, 0.1, setpoint=water_temp)\n",
    "    pid.output_limits = (0, 100)\n",
    "\n",
    "    start_time = time.time()\n",
    "    last_time = start_time\n",
    "\n",
    "    # Keep track of values for plotting\n",
    "    setpoint, y, x = [], [], []\n",
    "\n",
    "    while time.time() - start_time < 10:\n",
    "        current_time = time.time()\n",
    "        dt = current_time - last_time\n",
    "\n",
    "        power = pid(water_temp)\n",
    "        water_temp = boiler.update(power, dt)\n",
    "\n",
    "        x += [current_time - start_time]\n",
    "        y += [water_temp]\n",
    "        setpoint += [pid.setpoint]\n",
    "\n",
    "        if current_time - start_time > 1:\n",
    "            pid.setpoint = 100\n",
    "\n",
    "        last_time = current_time\n",
    "\n",
    "    plt.plot(x, y, label='measured')\n",
    "    plt.plot(x, setpoint, label='target')\n",
    "    plt.xlabel('time')\n",
    "    plt.ylabel('temperature')\n",
    "    plt.legend()\n",
    "    if os.getenv('NO_DISPLAY'):\n",
    "        # If run in CI the plot is saved to file instead of shown to the user\n",
    "        plt.savefig(f\"result-py{'.'.join([str(x) for x in sys.version_info[:2]])}.png\")\n",
    "    else:\n",
    "        plt.show()\n"
   ]
  }
 ],
 "metadata": {
  "kernelspec": {
   "display_name": "Python 3",
   "language": "python",
   "name": "python3"
  },
  "language_info": {
   "codemirror_mode": {
    "name": "ipython",
    "version": 3
   },
   "file_extension": ".py",
   "mimetype": "text/x-python",
   "name": "python",
   "nbconvert_exporter": "python",
   "pygments_lexer": "ipython3",
   "version": "3.11.1"
  },
  "vscode": {
   "interpreter": {
    "hash": "ea3486ab5eeb9db9810f154b6bb7d5dec8594ea63cdf4b72d9acfbcf033fd042"
   }
  }
 },
 "nbformat": 4,
 "nbformat_minor": 5
}
